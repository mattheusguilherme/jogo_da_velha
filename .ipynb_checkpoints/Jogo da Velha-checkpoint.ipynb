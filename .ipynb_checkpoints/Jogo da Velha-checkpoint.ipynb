{
 "cells": [
  {
   "cell_type": "markdown",
   "id": "a5d18fce",
   "metadata": {},
   "source": [
    "Passo 1: Escreva uma função que possa imprimir um quadro. Configure seu quadro como uma lista, onde cada índice de 1 a 9 corresponde a um número em um teclado numérico, para obter uma representação de 3 por 3 no quadro."
   ]
  },
  {
   "cell_type": "code",
   "execution_count": 18,
   "id": "e909489c",
   "metadata": {},
   "outputs": [],
   "source": [
    "from IPython.display import clear_output\n",
    "\n",
    "def display_board(board):\n",
    "    clear_output() # só funciona no jupyter notebook\n",
    "    \n",
    "    print('   |   |')\n",
    "    print(' ' + board[7] + ' | ' + board[8] + ' | ' + board[9])\n",
    "    print('   |   |')\n",
    "    print('-----------')\n",
    "    print('   |   |')\n",
    "    print(' ' + board[4] + ' | ' + board[5] + ' | ' + board[6])\n",
    "    print('   |   |')\n",
    "    print('-----------')\n",
    "    print('   |   |')\n",
    "    print(' ' + board[1] + ' | ' + board[2] + ' | ' + board[3])\n",
    "    print('   |   |')"
   ]
  },
  {
   "cell_type": "markdown",
   "id": "43cba63b",
   "metadata": {},
   "source": [
    "TESTE Etapa 1: execute sua função em uma versão de teste da lista do quadro e faça os ajustes necessários"
   ]
  },
  {
   "cell_type": "code",
   "execution_count": 19,
   "id": "194bdacd",
   "metadata": {
    "scrolled": true
   },
   "outputs": [
    {
     "name": "stdout",
     "output_type": "stream",
     "text": [
      "   |   |\n",
      " X | O | X\n",
      "   |   |\n",
      "-----------\n",
      "   |   |\n",
      " O | X | O\n",
      "   |   |\n",
      "-----------\n",
      "   |   |\n",
      " X | O | X\n",
      "   |   |\n"
     ]
    }
   ],
   "source": [
    "test_board = ['#','X','O','X','O','X','O','X','O','X']\n",
    "display_board(test_board)"
   ]
  },
  {
   "cell_type": "code",
   "execution_count": 3,
   "id": "8f93f56e",
   "metadata": {
    "scrolled": true
   },
   "outputs": [
    {
     "name": "stdout",
     "output_type": "stream",
     "text": [
      "Bem Vindo ao Jogo da Velha\n",
      "Por favor, escolha um: 'X' ou 'O'X\n"
     ]
    }
   ],
   "source": [
    "print(\"Bem Vindo ao Jogo da Velha\")\n",
    "player1 = input(\"Por favor, escolha um: 'X' ou 'O'\")"
   ]
  },
  {
   "cell_type": "code",
   "execution_count": null,
   "id": "ebe55bfb",
   "metadata": {},
   "outputs": [],
   "source": []
  }
 ],
 "metadata": {
  "kernelspec": {
   "display_name": "Python 3 (ipykernel)",
   "language": "python",
   "name": "python3"
  },
  "language_info": {
   "codemirror_mode": {
    "name": "ipython",
    "version": 3
   },
   "file_extension": ".py",
   "mimetype": "text/x-python",
   "name": "python",
   "nbconvert_exporter": "python",
   "pygments_lexer": "ipython3",
   "version": "3.11.5"
  }
 },
 "nbformat": 4,
 "nbformat_minor": 5
}
